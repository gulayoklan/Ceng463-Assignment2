{
  "nbformat": 4,
  "nbformat_minor": 0,
  "metadata": {
    "colab": {
      "provenance": [],
      "authorship_tag": "ABX9TyMZ5GgSEqGgO7scVKBvpq4A",
      "include_colab_link": true
    },
    "kernelspec": {
      "name": "python3",
      "display_name": "Python 3"
    },
    "language_info": {
      "name": "python"
    }
  },
  "cells": [
    {
      "cell_type": "markdown",
      "metadata": {
        "id": "view-in-github",
        "colab_type": "text"
      },
      "source": [
        "<a href=\"https://colab.research.google.com/github/gulayoklan/Ceng463-Assignment2/blob/main/inference_script.ipynb\" target=\"_parent\"><img src=\"https://colab.research.google.com/assets/colab-badge.svg\" alt=\"Open In Colab\"/></a>"
      ]
    },
    {
      "cell_type": "markdown",
      "source": [
        "Read and process data for inference."
      ],
      "metadata": {
        "id": "arjPjXMtdGcr"
      }
    },
    {
      "cell_type": "code",
      "execution_count": null,
      "metadata": {
        "id": "b1DbpHvrcqUI"
      },
      "outputs": [],
      "source": [
        "file_path = \"orientation-it-train.tsv\"\n",
        "\n",
        "# Load the dataset\n",
        "df = pd.read_csv(file_path, sep='\\t')\n",
        "\n",
        "# Keep only the necessary columns (text and label) and drop rows with missing values\n",
        "df = df[['text_en', 'text' ,'label']].dropna()\n",
        "\n",
        "# Ensure the label column is binary and of type integer\n",
        "df['label'] = df['label'].astype(int)\n"
      ]
    },
    {
      "cell_type": "code",
      "source": [
        "from huggingface_hub import login\n",
        "\n",
        "login() # It will prompt you to enter your token"
      ],
      "metadata": {
        "id": "xkXcBh2IdTRU"
      },
      "execution_count": null,
      "outputs": []
    },
    {
      "cell_type": "code",
      "source": [
        "from transformers import pipeline\n",
        "model_name = \"meta-llama/Llama-3.1-8B\"\n",
        "generator = pipeline(\n",
        "    \"text-generation\",\n",
        "    model=model_name,\n",
        "    device=-1,    # model at cpu\n",
        ")"
      ],
      "metadata": {
        "id": "M38Nq2EldXi7"
      },
      "execution_count": null,
      "outputs": []
    },
    {
      "cell_type": "code",
      "source": [
        "def classify_with_generation(\n",
        "    generator_pipeline,\n",
        "    text,\n",
        "    candidate_labels,\n",
        "    max_new_tokens=32,\n",
        "    do_sample=True,\n",
        "    repetition_penalty=1.0\n",
        "):\n",
        "    labels_str = \", \".join(candidate_labels)\n",
        "    #provide the prompt appropriate to task.\n",
        "    prompt2=(\n",
        "        \"You are a highly intelligent political analyst and language model trained to classify parliamentary texts based on the speaker's political orientation.\\n \"\n",
        "        \"Your task is to determine whether the speaker's orientation is 'right' or 'left' based on the provided parliamentary speech. Respond with only the label ('right' or 'left') and nothing else.\\n\"\n",
        "        f\"Here is the parliamentary text:{text}\\n\"\n",
        "        \"Label:\"\n",
        "      )\n",
        "\n",
        "    # 2) Generate output from the model\n",
        "    output = generator_pipeline(\n",
        "        prompt2,\n",
        "        max_new_tokens=max_new_tokens,\n",
        "        do_sample=do_sample,\n",
        "        temperature=0.2,\n",
        "        repetition_penalty=repetition_penalty\n",
        "    )\n",
        "\n",
        "    # The pipeline returns a list of dicts, e.g. [{'generated_text': \"...\"}].\n",
        "    generated_text = output[0][\"generated_text\"]\n",
        "\n",
        "\n",
        "    best_label = None\n",
        "    # Convert to lowercase for simpler matching (optional).\n",
        "    gen_lower = generated_text.lower()\n",
        "\n",
        "    for label in candidate_labels:\n",
        "        if label.lower() in gen_lower[-17:]:\n",
        "            best_label = label\n",
        "            break\n",
        "\n",
        "    return best_label, generated_text\n",
        "\n",
        "def llm_inference(texts):\n",
        "  candidate_labels = [\"left\", \"right\"]\n",
        "  predictions = []\n",
        "  true_labels = []\n",
        "  labels = test.label.values\n",
        "\n",
        "  wrong_label=0\n",
        "  for i in range(0,len(texts)):\n",
        "\n",
        "    text = texts[i]\n",
        "    label = labels[i]\n",
        "    best_label, raw_output = classify_with_generation(\n",
        "        generator_pipeline=generator,\n",
        "        text=text,\n",
        "        candidate_labels=candidate_labels,\n",
        "        max_new_tokens=3,\n",
        "        do_sample=False,\n",
        "        repetition_penalty=1.2\n",
        "    )\n",
        "    if (best_label==\"left\"):\n",
        "      predictions.append(0)\n",
        "      true_labels.append(label)\n",
        "    elif (best_label==\"right\"):\n",
        "      predictions.append(1)\n",
        "      true_labels.append(label)\n",
        "    else:\n",
        "      wrong_label+=1\n",
        "  return predictions,true_labels,wrong_label\n",
        "\n"
      ],
      "metadata": {
        "id": "eO1xRarxdZdn"
      },
      "execution_count": null,
      "outputs": []
    },
    {
      "cell_type": "code",
      "source": [
        "it_predictions,it_true_labels,it_wrong_label=llm_inference(df.text.values)\n",
        "predictions,true_labels,wrong_label=llm_inference(df.text_en.values)\n"
      ],
      "metadata": {
        "id": "dPhFZuaudnEb"
      },
      "execution_count": null,
      "outputs": []
    },
    {
      "cell_type": "code",
      "source": [
        "print(classification_report(it_true_labels,it_predictions))\n",
        "print(it_wrong_label)\n",
        "print(np.unique(it_predictions, return_counts=True))"
      ],
      "metadata": {
        "id": "Pt2PKaW0duAa"
      },
      "execution_count": null,
      "outputs": []
    },
    {
      "cell_type": "code",
      "source": [
        "print(classification_report(true_labels,predictions))\n",
        "print(wrong_label)\n",
        "print(np.unique(predictions, return_counts=True))"
      ],
      "metadata": {
        "id": "o9I9yAXzdyAr"
      },
      "execution_count": null,
      "outputs": []
    }
  ]
}